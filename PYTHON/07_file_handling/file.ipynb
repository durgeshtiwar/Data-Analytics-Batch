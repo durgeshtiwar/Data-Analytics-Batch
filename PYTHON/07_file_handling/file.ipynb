{
 "cells": [
  {
   "cell_type": "code",
   "execution_count": 5,
   "id": "a5f28d05",
   "metadata": {},
   "outputs": [
    {
     "name": "stdout",
     "output_type": "stream",
     "text": [
      "Hello I'm Durgesh \n",
      "working with Data Analytics\n"
     ]
    }
   ],
   "source": [
    "f = open(\"File/text.txt\", \"r\")\n",
    "print(f.read())\n",
    "f.close()"
   ]
  },
  {
   "cell_type": "code",
   "execution_count": 6,
   "id": "3b57008e",
   "metadata": {},
   "outputs": [],
   "source": [
    "f = open(\"File/text.txt\", \"a\")\n",
    "f.write(\"\\nThis is a new line added to the file.\")\n",
    "f.close()"
   ]
  },
  {
   "cell_type": "code",
   "execution_count": 7,
   "id": "3e537d8a",
   "metadata": {},
   "outputs": [],
   "source": [
    "f = open(\"File/text2.txt\", \"x\")\n",
    "f.write(\"This will create a new file if it does not exist.\")\n",
    "f.close()"
   ]
  },
  {
   "cell_type": "code",
   "execution_count": 15,
   "id": "cac6300c",
   "metadata": {},
   "outputs": [
    {
     "name": "stdout",
     "output_type": "stream",
     "text": [
      "Hello I'm Durgesh \n",
      "\n"
     ]
    }
   ],
   "source": [
    "f = open(\"File/text1.txt\", \"r\")\n",
    "print(f.readline())\n",
    "f.close()"
   ]
  },
  {
   "cell_type": "code",
   "execution_count": null,
   "id": "936487b8",
   "metadata": {},
   "outputs": [],
   "source": []
  }
 ],
 "metadata": {
  "kernelspec": {
   "display_name": "Python 3",
   "language": "python",
   "name": "python3"
  },
  "language_info": {
   "codemirror_mode": {
    "name": "ipython",
    "version": 3
   },
   "file_extension": ".py",
   "mimetype": "text/x-python",
   "name": "python",
   "nbconvert_exporter": "python",
   "pygments_lexer": "ipython3",
   "version": "3.10.2"
  }
 },
 "nbformat": 4,
 "nbformat_minor": 5
}
