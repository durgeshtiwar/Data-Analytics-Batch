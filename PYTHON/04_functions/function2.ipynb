{
 "cells": [
  {
   "cell_type": "code",
   "execution_count": 4,
   "id": "c04d5b35",
   "metadata": {},
   "outputs": [
    {
     "data": {
      "text/plain": [
       "('Durgesh Tiwari', 'durgeshtiwari@gmail.com')"
      ]
     },
     "execution_count": 4,
     "metadata": {},
     "output_type": "execute_result"
    }
   ],
   "source": [
    "def firstFunction(name, email_id, phone_no):\n",
    "  return name, email_id\n",
    "firstFunction(\"Durgesh Tiwari\", \"durgeshtiwari@gmail.com\", 9026736093)"
   ]
  }
 ],
 "metadata": {
  "kernelspec": {
   "display_name": "Python 3",
   "language": "python",
   "name": "python3"
  },
  "language_info": {
   "codemirror_mode": {
    "name": "ipython",
    "version": 3
   },
   "file_extension": ".py",
   "mimetype": "text/x-python",
   "name": "python",
   "nbconvert_exporter": "python",
   "pygments_lexer": "ipython3",
   "version": "3.10.2"
  }
 },
 "nbformat": 4,
 "nbformat_minor": 5
}
