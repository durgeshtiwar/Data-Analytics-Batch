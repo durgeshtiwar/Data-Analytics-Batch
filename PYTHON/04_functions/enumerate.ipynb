{
 "cells": [
  {
   "cell_type": "code",
   "execution_count": 5,
   "id": "35dfb290",
   "metadata": {},
   "outputs": [
    {
     "data": {
      "text/plain": [
       "['Durgesh', 'Shubham', 'Tiwari', 'Satyam']"
      ]
     },
     "execution_count": 5,
     "metadata": {},
     "output_type": "execute_result"
    }
   ],
   "source": [
    "name = ['Durgesh', 'Shubham', 'Tiwari', 'Satyam']\n",
    "name"
   ]
  },
  {
   "cell_type": "code",
   "execution_count": 7,
   "id": "1c07c413",
   "metadata": {},
   "outputs": [
    {
     "name": "stdout",
     "output_type": "stream",
     "text": [
      "0 Durgesh\n",
      "1 Shubham\n",
      "2 Tiwari\n",
      "3 Satyam\n"
     ]
    }
   ],
   "source": [
    "for i in range(len(name)):\n",
    "  print(i, name[i])"
   ]
  },
  {
   "cell_type": "code",
   "execution_count": 8,
   "id": "425a5de3",
   "metadata": {},
   "outputs": [
    {
     "name": "stdout",
     "output_type": "stream",
     "text": [
      "(0, 'Durgesh')\n",
      "(1, 'Shubham')\n",
      "(2, 'Tiwari')\n",
      "(3, 'Satyam')\n"
     ]
    }
   ],
   "source": [
    "for i in enumerate(name):\n",
    "  print(i)"
   ]
  },
  {
   "cell_type": "code",
   "execution_count": 12,
   "id": "179c0730",
   "metadata": {},
   "outputs": [
    {
     "data": {
      "text/plain": [
       "set"
      ]
     },
     "execution_count": 12,
     "metadata": {},
     "output_type": "execute_result"
    }
   ],
   "source": [
    "name = set(name)\n",
    "name\n",
    "type(name)"
   ]
  }
 ],
 "metadata": {
  "kernelspec": {
   "display_name": "Python 3",
   "language": "python",
   "name": "python3"
  },
  "language_info": {
   "codemirror_mode": {
    "name": "ipython",
    "version": 3
   },
   "file_extension": ".py",
   "mimetype": "text/x-python",
   "name": "python",
   "nbconvert_exporter": "python",
   "pygments_lexer": "ipython3",
   "version": "3.10.2"
  }
 },
 "nbformat": 4,
 "nbformat_minor": 5
}
